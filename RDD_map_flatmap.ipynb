{
 "cells": [
  {
   "cell_type": "code",
   "execution_count": null,
   "metadata": {},
   "outputs": [],
   "source": [
    "## compare RDD map and flatmap\n",
    "## env - ubuntu\n",
    "textFile = sc.textFile(\"data/test.txt\")\n",
    "textFile.collect()\n",
    "#[u'Apple Apple Orange', u'Banana Grape Grape']\n",
    "\n",
    "## use map to extract word\n",
    "## results is 2 dimensional array\n",
    "stringRDD=textFile.map(lambda line : line.split(\" \"))\n",
    "stringRDD.collect()\n",
    "#[[u'Apple', u'Apple', u'Orange'], [u'Banana', u'Grape', u'Grape']]\n",
    "\n",
    "## use \"flatmap\"\n",
    "## result is 1 dimensional array\n",
    "stringRDD=textFile.flatMap(lambda line : line.split(\" \"))\n",
    "stringRDD.collect()\n",
    "#[u'Apple', u'Apple', u'Orange', u'Banana', u'Grape', u'Grape']\n",
    "\n",
    "## try to count word\n",
    "stringRDD = stringRDD.map(lambda x : (x,1))\n",
    "stringRDD.reduceByKey(lambda x,y:x+y).collect()\n",
    "#[(u'Orange', 1), (u'Grape', 2), (u'Apple', 2), (u'Banana', 1)]"
   ]
  }
 ],
 "metadata": {
  "kernelspec": {
   "display_name": "Python 3",
   "language": "python",
   "name": "python3"
  },
  "language_info": {
   "codemirror_mode": {
    "name": "ipython",
    "version": 3
   },
   "file_extension": ".py",
   "mimetype": "text/x-python",
   "name": "python",
   "nbconvert_exporter": "python",
   "pygments_lexer": "ipython3",
   "version": "3.7.3"
  }
 },
 "nbformat": 4,
 "nbformat_minor": 2
}

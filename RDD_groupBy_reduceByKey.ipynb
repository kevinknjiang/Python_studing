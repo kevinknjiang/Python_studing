{
 "cells": [
  {
   "cell_type": "code",
   "execution_count": 1,
   "metadata": {},
   "outputs": [],
   "source": [
    "## RDD groupBy & reduceByKey \n",
    "## groupBy -- for list value\n",
    "## reduceByKey -- for map (key,value) object"
   ]
  },
  {
   "cell_type": "code",
   "execution_count": 3,
   "metadata": {},
   "outputs": [],
   "source": [
    "from pyspark import SparkContext\n",
    "sc = SparkContext.getOrCreate()"
   ]
  },
  {
   "cell_type": "code",
   "execution_count": 4,
   "metadata": {},
   "outputs": [
    {
     "name": "stdout",
     "output_type": "stream",
     "text": [
      "even [2]\n",
      "odd [5, 5, 3, 1]\n"
     ]
    }
   ],
   "source": [
    "intRDD = sc.parallelize([3,1, 2, 5, 5])\n",
    "#intRDD.collect()\n",
    "#[3, 1, 2, 5, 5]\n",
    "gRDD=intRDD.groupBy(\n",
    "    lambda  x: \"even\" if (x % 2 == 0)     else \"odd\"\n",
    ").collect()\n",
    "print (gRDD[0][0],sorted(gRDD[0][1]))\n",
    "#('even', [2])\n",
    "print (gRDD[1][0],sorted(gRDD[1][1],reverse=True))\n",
    "#('odd', [5, 5, 3, 1])"
   ]
  },
  {
   "cell_type": "code",
   "execution_count": 5,
   "metadata": {},
   "outputs": [
    {
     "data": {
      "text/plain": [
       "[(1, 2), (3, 112), (5, 6)]"
      ]
     },
     "execution_count": 5,
     "metadata": {},
     "output_type": "execute_result"
    }
   ],
   "source": [
    "kvRDD1 = sc.parallelize([(3, 4), (3, 6), (5, 6), (1, 2)])\n",
    "kvRDD2=sc.parallelize([(3,100)])\n",
    "kvRDD3 = sc.parallelize(kvRDD1.union(kvRDD2).collect())\n",
    "kvRDD3.collect()\n",
    "#[(3, 4), (3, 6), (5, 6), (1, 2), (3, 100)]\n",
    "kvRDD3.reduceByKey(lambda x,y: x+y+1).collect()\n",
    "#[(1, 2), (3, 112), (5, 6)]"
   ]
  }
 ],
 "metadata": {
  "kernelspec": {
   "display_name": "Python 3",
   "language": "python",
   "name": "python3"
  },
  "language_info": {
   "codemirror_mode": {
    "name": "ipython",
    "version": 3
   },
   "file_extension": ".py",
   "mimetype": "text/x-python",
   "name": "python",
   "nbconvert_exporter": "python",
   "pygments_lexer": "ipython3",
   "version": "3.7.3"
  }
 },
 "nbformat": 4,
 "nbformat_minor": 2
}
